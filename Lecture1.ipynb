{
 "cells": [
  {
   "cell_type": "code",
   "execution_count": 9,
   "id": "f367db63",
   "metadata": {},
   "outputs": [],
   "source": [
    "import numpy as np\n",
    "import pandas as pd \n",
    "import matplotlib.pyplot as plt\n",
    "import seaborn as sns"
   ]
  },
  {
   "cell_type": "markdown",
   "id": "946b3708",
   "metadata": {},
   "source": [
    "# পরিসংখ্যান এবং মেশিন লার্নিং-এর ভূমিকা: ক্লাস ১ (বিগিনার লেভেল)\n",
    "\n",
    "এই নোটবুকটি পরিসংখ্যানের মৌলিক টপিকগুলোকে বাংলায় ব্যাখ্যা করবে, যা মেশিন লার্নিং (ML)-এর জন্য অত্যন্ত গুরুত্বপূর্ণ। প্রত্যেক টপিক সেকশন-ওয়াইজ ব্যাখ্যা করা হয়েছে, উদাহরণ সহ, কীভাবে কাজ করে, কেন দরকারী, এবং ML-সম্পর্কিত কোড উদাহরণ। এটি জুপিটার নোটবুক ফরম্যাটে তৈরি, যাতে তুমি GitHub-এ আপলোড করতে পারো।\n",
    "\n",
    "**প্রয়োজনীয় লাইব্রেরি:** NumPy, Pandas, Matplotlib, Seaborn। ইনস্টল করো:  \n",
    "```bash\n",
    "pip install numpy pandas matplotlib seaborn\n",
    "```\n",
    "\n",
    "---\n",
    "\n",
    "## #1: Introductory Talk (পরিচিতি আলোচনা)\n",
    "\n",
    "পরিসংখ্যান হলো ডেটা সংগ্রহ, বিশ্লেষণ, ব্যাখ্যা এবং উপস্থাপনের বিজ্ঞান। মেশিন লার্নিং-এ এটি ডেটা থেকে প্যাটার্ন শেখার জন্য অপরিহার্য। বিগিনার হিসেবে জেনে রাখো, ML মডেলগুলো ডেটা ছাড়া কিছুই নয়, আর পরিসংখ্যান সেই ডেটাকে বোঝার চাবিকাঠি।\n",
    "\n",
    "**কীভাবে কাজ করে?**  \n",
    "ডেটাকে সামারাইজ করে (যেমন গড়) এবং অনুমান করে (যেমন প্রবাবিলিটি)।\n",
    "\n",
    "**কেন দরকার?**  \n",
    "ML-এ ডেটা প্রিপ্রোসেসিং, মডেল ইভালুয়েশন এবং ডিসিশন মেকিং-এ সাহায্য করে। ছাড়া মডেল ভুল প্রেডিকশন দেবে।\n",
    "\n",
    "**উদাহরণ (ML-সম্পর্কিত):**  \n",
    "আইরিস ফ্লাওয়ার ডেটাসেট লোড করে বেসিক স্ট্যাটস দেখি।\n",
    "```python\n",
    "import pandas as pd\n",
    "from sklearn.datasets import load_iris\n",
    "\n",
    "iris = load_iris()\n",
    "df = pd.DataFrame(iris.data, columns=iris.feature_names)\n",
    "df['species'] = iris.target_names[iris.target]\n",
    "\n",
    "print(\"ডেটাসেটের সাইজ:\", df.shape)\n",
    "print(\"প্রথম কয়েকটা রো:\\n\", df.head())\n",
    "```\n",
    "\n",
    "**ব্যাখ্যা:** এই কোড sklearn থেকে আইরিস ডেটা লোড করে। ML-এ প্রথমে ডেটা বোঝা দরকার, যা পরিসংখ্যান দিয়ে শুরু হয়।"
   ]
  },
  {
   "cell_type": "code",
   "execution_count": 2,
   "id": "07007e8b",
   "metadata": {},
   "outputs": [
    {
     "name": "stdout",
     "output_type": "stream",
     "text": [
      "ডেটাসেটের সাইজ: (150, 5)\n",
      "প্রথম কয়েকটা রো:\n",
      "    sepal length (cm)  sepal width (cm)  petal length (cm)  petal width (cm)  \\\n",
      "0                5.1               3.5                1.4               0.2   \n",
      "1                4.9               3.0                1.4               0.2   \n",
      "2                4.7               3.2                1.3               0.2   \n",
      "3                4.6               3.1                1.5               0.2   \n",
      "4                5.0               3.6                1.4               0.2   \n",
      "\n",
      "  species  \n",
      "0  setosa  \n",
      "1  setosa  \n",
      "2  setosa  \n",
      "3  setosa  \n",
      "4  setosa  \n"
     ]
    }
   ],
   "source": [
    "import pandas as pd\n",
    "from sklearn.datasets import load_iris\n",
    "\n",
    "iris = load_iris()\n",
    "df = pd.DataFrame(iris.data, columns=iris.feature_names)\n",
    "df['species'] = iris.target_names[iris.target]\n",
    "\n",
    "print(\"ডেটাসেটের সাইজ:\", df.shape)\n",
    "print(\"প্রথম কয়েকটা রো:\\n\", df.head())"
   ]
  },
  {
   "cell_type": "markdown",
   "id": "9db46db0",
   "metadata": {},
   "source": [
    "---\n",
    "\n",
    "## #2: Descriptive VS Inferential Statistics (বর্ণনামূলক বনাম অনুমানমূলক পরিসংখ্যান)\n",
    "\n",
    "**বর্ণনামূলক পরিসংখ্যান:** ডেটাকে সংক্ষিপ্ত করে দেখায় (গড়, গ্রাফ)।  \n",
    "**অনুমানমূলক পরিসংখ্যান:** স্যাম্পল থেকে পপুলেশন অনুমান করে (যেমন কনফিডেন্স ইন্টারভাল)।\n",
    "\n",
    "**কীভাবে কাজ করে?**  \n",
    "বর্ণনামূলক: ডেটা সামারাইজ করে। অনুমানমূলক: প্রবাবিলিটি দিয়ে পপুলেশন অনুমান করে।\n",
    "\n",
    "**কেন দরকার?**  \n",
    "ML-এ বর্ণনামূলক ডেটা এক্সপ্লোর করে, অনুমানমূলক মডেলের নির্ভরযোগ্যতা চেক করে। ছাড়া মডেল নতুন ডেটায় ফেল করবে।\n",
    "\n",
    "**উদাহরণ (ML-সম্পর্কিত):**  \n",
    "আইরিস ডেটায় বর্ণনামূলক স্ট্যাটস এবং কনফিডেন্স ইন্টারভাল।\n",
    "\n",
    "```python\n",
    "import numpy as np\n",
    "from scipy import stats\n",
    "\n",
    "print(\"বর্ণনামূলক স্ট্যাটস:\\n\", df.describe())\n",
    "\n",
    "mean = np.mean(df['sepal length (cm)'])\n",
    "conf_int = stats.t.interval(0.95, len(df)-1, loc=mean, scale=stats.sem(df['sepal length (cm)']))\n",
    "print(\"গড়:\", mean, \"\\nকনফিডেন্স ইন্টারভাল:\", conf_int)\n",
    "```\n",
    "\n",
    "**ব্যাখ্যা:** df.describe() দিয়ে সামারি, stats.t.interval দিয়ে পপুলেশন অনুমান। ML-এ এটি মডেল অ্যাকুরেসি চেকে ব্যবহৃত।\n",
    "\n",
    "---\n"
   ]
  },
  {
   "cell_type": "code",
   "execution_count": 3,
   "id": "7e434985",
   "metadata": {},
   "outputs": [
    {
     "name": "stdout",
     "output_type": "stream",
     "text": [
      "বর্ণনামূলক স্ট্যাটস:\n",
      "        sepal length (cm)  sepal width (cm)  petal length (cm)  \\\n",
      "count         150.000000        150.000000         150.000000   \n",
      "mean            5.843333          3.057333           3.758000   \n",
      "std             0.828066          0.435866           1.765298   \n",
      "min             4.300000          2.000000           1.000000   \n",
      "25%             5.100000          2.800000           1.600000   \n",
      "50%             5.800000          3.000000           4.350000   \n",
      "75%             6.400000          3.300000           5.100000   \n",
      "max             7.900000          4.400000           6.900000   \n",
      "\n",
      "       petal width (cm)  \n",
      "count        150.000000  \n",
      "mean           1.199333  \n",
      "std            0.762238  \n",
      "min            0.100000  \n",
      "25%            0.300000  \n",
      "50%            1.300000  \n",
      "75%            1.800000  \n",
      "max            2.500000  \n",
      "গড়: 5.843333333333334 \n",
      "কনফিডেন্স ইন্টারভাল: (np.float64(5.709732481507366), np.float64(5.976934185159301))\n"
     ]
    }
   ],
   "source": [
    "import numpy as np\n",
    "from scipy import stats\n",
    "\n",
    "print(\"বর্ণনামূলক স্ট্যাটস:\\n\", df.describe())\n",
    "\n",
    "mean = np.mean(df['sepal length (cm)'])\n",
    "conf_int = stats.t.interval(0.95, len(df)-1, loc=mean, scale=stats.sem(df['sepal length (cm)']))\n",
    "print(\"গড়:\", mean, \"\\nকনফিডেন্স ইন্টারভাল:\", conf_int)"
   ]
  },
  {
   "cell_type": "markdown",
   "id": "189258d3",
   "metadata": {},
   "source": []
  },
  {
   "cell_type": "markdown",
   "id": "169cf70d",
   "metadata": {},
   "source": [
    "## #3: Population VS Sample (পপুলেশন বনাম স্যাম্পল)\n",
    "\n",
    "**পপুলেশন:** পুরো ডেটা (যেমন সব ফ্লাওয়ারের মাপ)।  \n",
    "**স্যাম্পল:** পপুলেশনের ছোট অংশ (যেমন ৫০টা ফ্লাওয়ার)।\n",
    "\n",
    "**কীভাবে কাজ করে?**  \n",
    "পপুলেশন: সম্পূর্ণ অ্যানালাইসিস। স্যাম্পল: র্যান্ডম সিলেকশন দিয়ে অনুমান।\n",
    "\n",
    "**কেন দরকার?**  \n",
    "ML-এ পুরো ডেটা পাওয়া কঠিন। স্যাম্পল দিয়ে ট্রেন করা হয়। ভুল স্যাম্পল মডেলকে বায়াসড করে।\n",
    "\n",
    "**উদাহরণ (ML-সম্পর্কিত):**  \n",
    "আইরিস পপুলেশন থেকে স্যাম্পল গড়।\n",
    "\n",
    "```python\n",
    "pop_mean = np.mean(df['sepal length (cm)'])\n",
    "print(\"পপুলেশন গড়:\", pop_mean)\n",
    "\n",
    "sample = df.sample(50, random_state=42)\n",
    "sample_mean = np.mean(sample['sepal length (cm)'])\n",
    "print(\"স্যাম্পল গড়:\", sample_mean)\n",
    "```\n",
    "\n",
    "**ব্যাখ্যা:** df.sample() দিয়ে স্যাম্পল। ML-এ ট্রেন-টেস্ট স্প্লিট এমনই।\n",
    "\n",
    "---"
   ]
  },
  {
   "cell_type": "code",
   "execution_count": 4,
   "id": "a4c4e0e2",
   "metadata": {},
   "outputs": [
    {
     "name": "stdout",
     "output_type": "stream",
     "text": [
      "পপুলেশন গড়: 5.843333333333334\n",
      "স্যাম্পল গড়: 5.900000000000001\n"
     ]
    }
   ],
   "source": [
    "pop_mean = np.mean(df['sepal length (cm)'])\n",
    "print(\"পপুলেশন গড়:\", pop_mean)\n",
    "\n",
    "sample = df.sample(50, random_state=42)\n",
    "sample_mean = np.mean(sample['sepal length (cm)'])\n",
    "print(\"স্যাম্পল গড়:\", sample_mean)"
   ]
  },
  {
   "cell_type": "markdown",
   "id": "60313641",
   "metadata": {},
   "source": [
    "## #4: Measure of Central Tendency (কেন্দ্রীয় প্রবণতার মাপক)\n",
    "\n",
    "গড়, মিডিয়ান, মোড – ডেটার কেন্দ্রীয় মান।\n",
    "\n",
    "**কীভাবে কাজ করে?**  \n",
    "গড়: যোগফল/সংখ্যা। মিডিয়ান: সাজানো ডেটার মাঝের মান। মোড: ঘন মান।\n",
    "\n",
    "**কেন দরকার?**  \n",
    "ML-এ ফিচার নর্মালাইজেশন, মিসিং ভ্যালু ফিল। আউটলায়ার থাকলে মিডিয়ান ভালো।\n",
    "\n",
    "**উদাহরণ (ML-সম্পর্কিত):**  \n",
    "আইরিস ডেটায় সেন্ট্রাল টেন্ডেন্সি।\n",
    "\n",
    "```python\n",
    "mean = df['sepal length (cm)'].mean()\n",
    "median = df['sepal length (cm)'].median()\n",
    "mode = df['sepal length (cm)'].mode()[0]\n",
    "print(\"গড়:\", mean, \"\\nমিডিয়ান:\", median, \"\\nমোড:\", mode)\n",
    "```\n",
    "\n",
    "**ব্যাখ্যা:** pandas mean(), median(), mode()। ML-এ ইম্পুটেশনে ব্যবহৃত।\n",
    "\n",
    "---"
   ]
  },
  {
   "cell_type": "code",
   "execution_count": 5,
   "id": "f3f3b1ec",
   "metadata": {},
   "outputs": [
    {
     "name": "stdout",
     "output_type": "stream",
     "text": [
      "গড়: 5.843333333333334 \n",
      "মিডিয়ান: 5.8 \n",
      "মোড: 5.0\n"
     ]
    }
   ],
   "source": [
    "mean = df['sepal length (cm)'].mean()\n",
    "median = df['sepal length (cm)'].median()\n",
    "mode = df['sepal length (cm)'].mode()[0]\n",
    "print(\"গড়:\", mean, \"\\nমিডিয়ান:\", median, \"\\nমোড:\", mode)"
   ]
  },
  {
   "cell_type": "markdown",
   "id": "851e9373",
   "metadata": {},
   "source": [
    "## #5: Measure of Dispersion/Variation/Variability (বিচ্ছুরণের মাপক)\n",
    "\n",
    "রেঞ্জ, ভ্যারিয়েন্স, স্ট্যান্ডার্ড ডেভিয়েশন (SD) – ডেটার ছড়ানো।\n",
    "\n",
    "**কীভাবে কাজ করে?**  \n",
    "রেঞ্জ: max - min। ভ্যারিয়েন্স: (x - mean)^2 এর গড়। SD: ভ্যারিয়েন্সের sqrt।\n",
    "\n",
    "**কেন দরকার?**  \n",
    "ML-এ ফিচার স্কেলিং, ক্লাস্টারিং। উচ্চ SD মানে অস্থির ডেটা।\n",
    "\n",
    "**উদাহরণ (ML-সম্পর্কিত):**  \n",
    "আইরিস ডেটায় ডিসপার্শন।\n",
    "\n",
    "```python\n",
    "range_val = df['sepal length (cm)'].max() - df['sepal length (cm)'].min()\n",
    "variance = df['sepal length (cm)'].var()\n",
    "std = df['sepal length (cm)'].std()\n",
    "print(\"রেঞ্জ:\", range_val, \"\\nভ্যারিয়েন্স:\", variance, \"\\nSD:\", std)\n",
    "```\n",
    "\n",
    "**ব্যাখ্যা:** pandas var(), std()। ML-এ z-score স্ট্যান্ডার্ডাইজেশনে ব্যবহৃত।\n",
    "\n",
    "---"
   ]
  },
  {
   "cell_type": "code",
   "execution_count": 6,
   "id": "9ccd42ea",
   "metadata": {},
   "outputs": [
    {
     "name": "stdout",
     "output_type": "stream",
     "text": [
      "রেঞ্জ: 3.6000000000000005 \n",
      "ভ্যারিয়েন্স: 0.6856935123042507 \n",
      "SD: 0.828066127977863\n"
     ]
    }
   ],
   "source": [
    "range_val = df['sepal length (cm)'].max() - df['sepal length (cm)'].min()\n",
    "variance = df['sepal length (cm)'].var()\n",
    "std = df['sepal length (cm)'].std()\n",
    "print(\"রেঞ্জ:\", range_val, \"\\nভ্যারিয়েন্স:\", variance, \"\\nSD:\", std)"
   ]
  },
  {
   "cell_type": "markdown",
   "id": "6c2baa3b",
   "metadata": {},
   "source": [
    "## #6: Quantiles (কোয়ান্টাইলস)\n",
    "\n",
    "ডেটাকে সমান অংশে ভাগ (Q1: 25%, Q2: 50%, Q3: 75%)।\n",
    "\n",
    "**কীভাবে কাজ করে?**  \n",
    "ডেটা সাজিয়ে পার্সেন্টাইল ক্যালকুলেট।\n",
    "\n",
    "**কেন দরকার?**  \n",
    "ML-এ আউটলায়ার ডিটেকশন, নর্মালাইজেশন। IQR দিয়ে আউটলায়ার খুঁজে।\n",
    "\n",
    "**উদাহরণ (ML-সম্পর্কিত):**  \n",
    "আইরিস ডেটায় কোয়ান্টাইল।\n",
    "\n",
    "```python\n",
    "q1 = df['sepal length (cm)'].quantile(0.25)\n",
    "q2 = df['sepal length (cm)'].quantile(0.5)\n",
    "q3 = df['sepal length (cm)'].quantile(0.75)\n",
    "print(\"Q1:\", q1, \"\\nQ2 (মিডিয়ান):\", q2, \"\\nQ3:\", q3)\n",
    "```\n",
    "\n",
    "**ব্যাখ্যা:** pandas quantile()। ML-এ RobustScaler-এ ব্যবহৃত।\n",
    "\n",
    "---"
   ]
  },
  {
   "cell_type": "code",
   "execution_count": 8,
   "id": "fe1a4f3c",
   "metadata": {},
   "outputs": [
    {
     "name": "stdout",
     "output_type": "stream",
     "text": [
      "Q1: 5.1 \n",
      "Q2 (মিডিয়ান): 5.8 \n",
      "Q3: 6.4\n"
     ]
    }
   ],
   "source": [
    "q1 = df['sepal length (cm)'].quantile(0.25)\n",
    "q2 = df['sepal length (cm)'].quantile(0.5)\n",
    "q3 = df['sepal length (cm)'].quantile(0.75)\n",
    "print(\"Q1:\", q1, \"\\nQ2 (মিডিয়ান):\", q2, \"\\nQ3:\", q3)"
   ]
  },
  {
   "cell_type": "markdown",
   "id": "86c26929",
   "metadata": {},
   "source": [
    "## #7: 5 Number Summary And BoxPlot (৫ সংখ্যার সারাংশ এবং বক্সপ্লট)\n",
    "\n",
    "মিন, Q1, মিডিয়ান, Q3, ম্যাক্স। বক্সপ্লট: ভিজুয়ালাইজেশন।\n",
    "\n",
    "**কীভাবে কাজ করে?**  \n",
    "সারাংশ: কোয়ান্টাইল থেকে বের করা। বক্সপ্লট: বক্সে IQR, হুইস্কারে রেঞ্জ।\n",
    "\n",
    "**কেন দরকার?**  \n",
    "ML-এ ডেটা ডিস্ট্রিবিউশন দেখে ক্লিনিং। আউটলায়ার ভিজুয়ালি দেখা যায়।\n",
    "\n",
    "**উদাহরণ (ML-সম্পর্কিত):**  \n",
    "আইরিস ডেটায় ৫ নাম্বার এবং বক্সপ্লট।\n",
    "\n",
    "```python\n",
    "import matplotlib.pyplot as plt\n",
    "\n",
    "min_val = df['sepal length (cm)'].min()\n",
    "max_val = df['sepal length (cm)'].max()\n",
    "print(\"মিন:\", min_val, \"\\nQ1:\", q1, \"\\nমিডিয়ান:\", q2, \"\\nQ3:\", q3, \"\\nম্যাক্স:\", max_val)\n",
    "\n",
    "plt.boxplot(df['sepal length (cm)'])\n",
    "plt.title(\"Sepal Length BoxPlot\")\n",
    "plt.show()\n",
    "```\n",
    "\n",
    "**ব্যাখ্যা:** matplotlib boxplot()। ML-এ EDA-তে ব্যবহৃত।\n",
    "\n",
    "---"
   ]
  },
  {
   "cell_type": "code",
   "execution_count": 10,
   "id": "e67545b6",
   "metadata": {},
   "outputs": [
    {
     "name": "stdout",
     "output_type": "stream",
     "text": [
      "মিন: 4.3 \n",
      "Q1: 5.1 \n",
      "মিডিয়ান: 5.8 \n",
      "Q3: 6.4 \n",
      "ম্যাক্স: 7.9\n"
     ]
    },
    {
     "data": {
      "image/png": "[encoded data removed]",
      "text/plain": [
       "<Figure size 640x480 with 1 Axes>"
      ]
     },
     "metadata": {},
     "output_type": "display_data"
    }
   ],
   "source": [
    "min_val = df['sepal length (cm)'].min()\n",
    "max_val = df['sepal length (cm)'].max()\n",
    "print(\"মিন:\", min_val, \"\\nQ1:\", q1, \"\\nমিডিয়ান:\", q2, \"\\nQ3:\", q3, \"\\nম্যাক্স:\", max_val)\n",
    "\n",
    "plt.boxplot(df['sepal length (cm)'])\n",
    "plt.title(\"Sepal Length BoxPlot\")\n",
    "plt.show()"
   ]
  },
  {
   "cell_type": "markdown",
   "id": "d3e3e98a",
   "metadata": {},
   "source": [
    "## #8: Data Types in Statistics (পরিসংখ্যানে ডেটার ধরন)\n",
    "\n",
    "ডেটা দুই ধরনের: **ক্যাটেগরিকাল** (নামমাত্র, ক্রমিক) এবং **নিউমেরিকাল** (ক্রমাগত, বিচ্ছিন্ন)।\n",
    "\n",
    "**কীভাবে কাজ করে?**  \n",
    "- ক্যাটেগরিকাল (নামমাত্র): কোন ক্রম নেই (যেমন ফ্লাওয়ার স্পিসিস)।  \n",
    "- ক্যাটেগরিকাল (ক্রমিক): ক্রম আছে (যেমন গ্রেড: A, B, C)।  \n",
    "- নিউমেরিকাল (ক্রমাগত): দশমিক সহ (যেমন sepal length)।  \n",
    "- নিউমেরিকাল (বিচ্ছিন্ন): পূর্ণ সংখ্যা (যেমন সন্তান সংখ্যা)।\n",
    "\n",
    "**কেন দরকার?**  \n",
    "ML-এ ক্যাটেগরিকাল ডেটা এনকোডিং (যেমন One-Hot Encoding) এবং নিউমেরিকাল ডেটা স্কেলিং-এর জন্য। ভুল ডেটা টাইপ ব্যবহার করলে মডেল ভুল হবে।\n",
    "\n",
    "**উদাহরণ (ML-সম্পর্কিত):**  \n",
    "আইরিস ডেটায় ডেটা টাইপ চেক এবং ক্যাটেগরিকাল এনকোডিং।\n",
    "\n",
    "```python\n",
    "print(\"ডেটা টাইপ:\\n\", df.dtypes)\n",
    "\n",
    "from sklearn.preprocessing import LabelEncoder\n",
    "le = LabelEncoder()\n",
    "df['species_encoded'] = le.fit_transform(df['species'])\n",
    "print(\"এনকোডেড species:\\n\", df[['species', 'species_encoded']].head())\n",
    "```\n",
    "\n",
    "**ব্যাখ্যা:** df.dtypes দিয়ে ডেটা টাইপ। LabelEncoder দিয়ে ক্যাটেগরিকাল ডেটা নিউমেরিকালে রূপান্তর, যা ML মডেলে ব্যবহৃত।\n",
    "\n",
    "---"
   ]
  },
  {
   "cell_type": "code",
   "execution_count": 11,
   "id": "6a3b5106",
   "metadata": {},
   "outputs": [
    {
     "name": "stdout",
     "output_type": "stream",
     "text": [
      "ডেটা টাইপ:\n",
      " sepal length (cm)    float64\n",
      "sepal width (cm)     float64\n",
      "petal length (cm)    float64\n",
      "petal width (cm)     float64\n",
      "species               object\n",
      "dtype: object\n",
      "এনকোডেড species:\n",
      "   species  species_encoded\n",
      "0  setosa                0\n",
      "1  setosa                0\n",
      "2  setosa                0\n",
      "3  setosa                0\n",
      "4  setosa                0\n"
     ]
    }
   ],
   "source": [
    "print(\"ডেটা টাইপ:\\n\", df.dtypes)\n",
    "\n",
    "from sklearn.preprocessing import LabelEncoder\n",
    "le = LabelEncoder()\n",
    "df['species_encoded'] = le.fit_transform(df['species'])\n",
    "print(\"এনকোডেড species:\\n\", df[['species', 'species_encoded']].head())"
   ]
  },
  {
   "cell_type": "markdown",
   "id": "fae337b6",
   "metadata": {},
   "source": [
    "## #9: Basic Data Visualization (মৌলিক ডেটা ভিজুয়ালাইজেশন)\n",
    "\n",
    "হিস্টোগ্রাম এবং স্ক্যাটার প্লট দিয়ে ডেটা ডিস্ট্রিবিউশন এবং সম্পর্ক দেখা।\n",
    "\n",
    "**কীভাবে কাজ করে?**  \n",
    "- হিস্টোগ্রাম: ডেটার ফ্রিকোয়েন্সি ডিস্ট্রিবিউশন।  \n",
    "- স্ক্যাটার প্লট: দুটি ফিচারের সম্পর্ক।\n",
    "\n",
    "**কেন দরকার?**  \n",
    "ML-এ EDA-তে ডেটা বোঝা, ফিচার সম্পর্ক খুঁজে। বিগিনারদের জন্য ভিজুয়ালাইজেশন সহজে ডেটা বোঝায়।\n",
    "\n",
    "**উদাহরণ (ML-সম্পর্কিত):**  \n",
    "আইরিস ডেটায় হিস্টোগ্রাম এবং স্ক্যাটার প্লট।\n",
    "\n",
    "```python\n",
    "import seaborn as sns\n",
    "\n",
    "plt.figure(figsize=(8, 5))\n",
    "sns.histplot(df['sepal length (cm)'], bins=20, kde=True)\n",
    "plt.title(\"Sepal Length Histogram\")\n",
    "plt.show()\n",
    "\n",
    "plt.figure(figsize=(8, 5))\n",
    "sns.scatterplot(x='sepal length (cm)', y='sepal width (cm)', hue='species', data=df)\n",
    "plt.title(\"Sepal Length vs Sepal Width\")\n",
    "plt.show()\n",
    "```\n",
    "\n",
    "**ব্যাখ্যা:** sns.histplot() দিয়ে ডিস্ট্রিবিউশন, sns.scatterplot() দিয়ে ফিচার সম্পর্ক। ML-এ এটি ফিচার সিলেকশনে সাহায্য করে।\n",
    "\n",
    "---"
   ]
  },
  {
   "cell_type": "code",
   "execution_count": 12,
   "id": "62533ded",
   "metadata": {},
   "outputs": [
    {
     "data": {
      "image/png": "[encoded data removed]",
      "text/plain": [
       "<Figure size 800x500 with 1 Axes>"
      ]
     },
     "metadata": {},
     "output_type": "display_data"
    },
    {
     "data": {
      "image/png": "[encoded data removed]",
      "text/plain": [
       "<Figure size 800x500 with 1 Axes>"
      ]
     },
     "metadata": {},
     "output_type": "display_data"
    }
   ],
   "source": [
    "plt.figure(figsize=(8, 5))\n",
    "sns.histplot(df['sepal length (cm)'], bins=20, kde=True)\n",
    "plt.title(\"Sepal Length Histogram\")\n",
    "plt.show()\n",
    "\n",
    "plt.figure(figsize=(8, 5))\n",
    "sns.scatterplot(x='sepal length (cm)', y='sepal width (cm)', hue='species', data=df)\n",
    "plt.title(\"Sepal Length vs Sepal Width\")\n",
    "plt.show()"
   ]
  }
 ],
 "metadata": {
  "kernelspec": {
   "display_name": "Python 3",
   "language": "python",
   "name": "python3"
  },
  "language_info": {
   "codemirror_mode": {
    "name": "ipython",
    "version": 3
   },
   "file_extension": ".py",
   "mimetype": "text/x-python",
   "name": "python",
   "nbconvert_exporter": "python",
   "pygments_lexer": "ipython3",
   "version": "3.13.7"
  }
 },
 "nbformat": 4,
 "nbformat_minor": 5
}
